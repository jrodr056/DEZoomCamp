{
 "cells": [
  {
   "cell_type": "code",
   "execution_count": 88,
   "id": "24cfc1b1-d423-49de-b3db-46245295361e",
   "metadata": {},
   "outputs": [],
   "source": [
    "import pyspark\n",
    "from pyspark.sql import SparkSession\n",
    "\n",
    "spark = SparkSession.builder \\\n",
    "    .master(\"spark://localhost:7077\") \\\n",
    "    .appName(\"test\") \\\n",
    "    .getOrCreate()"
   ]
  },
  {
   "cell_type": "code",
   "execution_count": 89,
   "id": "d7d42efe-59d2-4e18-90b9-f68ae36be668",
   "metadata": {},
   "outputs": [],
   "source": [
    "df_green = spark.read.parquet('data/raw/green/*/*')"
   ]
  },
  {
   "cell_type": "code",
   "execution_count": 90,
   "id": "09f39a48-8f26-42b1-94c4-f7fee44cd678",
   "metadata": {},
   "outputs": [
    {
     "name": "stdout",
     "output_type": "stream",
     "text": [
      "root\n",
      " |-- VendorID: long (nullable = true)\n",
      " |-- lpep_pickup_datetime: timestamp_ntz (nullable = true)\n",
      " |-- lpep_dropoff_datetime: timestamp_ntz (nullable = true)\n",
      " |-- store_and_fwd_flag: string (nullable = true)\n",
      " |-- RatecodeID: double (nullable = true)\n",
      " |-- PULocationID: long (nullable = true)\n",
      " |-- DOLocationID: long (nullable = true)\n",
      " |-- passenger_count: double (nullable = true)\n",
      " |-- trip_distance: double (nullable = true)\n",
      " |-- fare_amount: double (nullable = true)\n",
      " |-- extra: double (nullable = true)\n",
      " |-- mta_tax: double (nullable = true)\n",
      " |-- tip_amount: double (nullable = true)\n",
      " |-- tolls_amount: double (nullable = true)\n",
      " |-- ehail_fee: integer (nullable = true)\n",
      " |-- improvement_surcharge: double (nullable = true)\n",
      " |-- total_amount: double (nullable = true)\n",
      " |-- payment_type: double (nullable = true)\n",
      " |-- trip_type: double (nullable = true)\n",
      " |-- congestion_surcharge: double (nullable = true)\n",
      "\n"
     ]
    }
   ],
   "source": [
    "df_green.printSchema()"
   ]
  },
  {
   "cell_type": "code",
   "execution_count": 41,
   "id": "8016afb0-00f4-4eea-8d27-e3e534d638e0",
   "metadata": {},
   "outputs": [],
   "source": [
    "df_yellow = spark.read.parquet('data/raw/yellow/*/*')"
   ]
  },
  {
   "cell_type": "code",
   "execution_count": 42,
   "id": "578b5946-2b6d-46fe-b829-ff517d7cdfb2",
   "metadata": {},
   "outputs": [
    {
     "name": "stdout",
     "output_type": "stream",
     "text": [
      "+--------+--------------------+---------------------+---------------+-------------+----------+------------------+------------+------------+------------+-----------+-----+-------+----------+------------+---------------------+------------+--------------------+-----------+\n",
      "|VendorID|tpep_pickup_datetime|tpep_dropoff_datetime|passenger_count|trip_distance|RatecodeID|store_and_fwd_flag|PULocationID|DOLocationID|payment_type|fare_amount|extra|mta_tax|tip_amount|tolls_amount|improvement_surcharge|total_amount|congestion_surcharge|airport_fee|\n",
      "+--------+--------------------+---------------------+---------------+-------------+----------+------------------+------------+------------+------------+-----------+-----+-------+----------+------------+---------------------+------------+--------------------+-----------+\n",
      "|       1| 2022-01-01 00:35:40|  2022-01-01 00:53:29|            2.0|          3.8|       1.0|                 N|         142|         236|           1|       14.5|  3.0|    0.5|      3.65|         0.0|                  0.3|       21.95|                 2.5|        0.0|\n",
      "|       1| 2022-01-01 00:33:43|  2022-01-01 00:42:07|            1.0|          2.1|       1.0|                 N|         236|          42|           1|        8.0|  0.5|    0.5|       4.0|         0.0|                  0.3|        13.3|                 0.0|        0.0|\n",
      "|       2| 2022-01-01 00:53:21|  2022-01-01 01:02:19|            1.0|         0.97|       1.0|                 N|         166|         166|           1|        7.5|  0.5|    0.5|      1.76|         0.0|                  0.3|       10.56|                 0.0|        0.0|\n",
      "|       2| 2022-01-01 00:25:21|  2022-01-01 00:35:23|            1.0|         1.09|       1.0|                 N|         114|          68|           2|        8.0|  0.5|    0.5|       0.0|         0.0|                  0.3|        11.8|                 2.5|        0.0|\n",
      "|       2| 2022-01-01 00:36:48|  2022-01-01 01:14:20|            1.0|          4.3|       1.0|                 N|          68|         163|           1|       23.5|  0.5|    0.5|       3.0|         0.0|                  0.3|        30.3|                 2.5|        0.0|\n",
      "|       1| 2022-01-01 00:40:15|  2022-01-01 01:09:48|            1.0|         10.3|       1.0|                 N|         138|         161|           1|       33.0|  3.0|    0.5|      13.0|        6.55|                  0.3|       56.35|                 2.5|        0.0|\n",
      "|       2| 2022-01-01 00:20:50|  2022-01-01 00:34:58|            1.0|         5.07|       1.0|                 N|         233|          87|           1|       17.0|  0.5|    0.5|       5.2|         0.0|                  0.3|        26.0|                 2.5|        0.0|\n",
      "|       2| 2022-01-01 00:13:04|  2022-01-01 00:22:45|            1.0|         2.02|       1.0|                 N|         238|         152|           2|        9.0|  0.5|    0.5|       0.0|         0.0|                  0.3|        12.8|                 2.5|        0.0|\n",
      "|       2| 2022-01-01 00:30:02|  2022-01-01 00:44:49|            1.0|         2.71|       1.0|                 N|         166|         236|           1|       12.0|  0.5|    0.5|      2.25|         0.0|                  0.3|       18.05|                 2.5|        0.0|\n",
      "|       2| 2022-01-01 00:48:52|  2022-01-01 00:53:28|            1.0|         0.78|       1.0|                 N|         236|         141|           2|        5.0|  0.5|    0.5|       0.0|         0.0|                  0.3|         8.8|                 2.5|        0.0|\n",
      "|       2| 2022-01-01 00:55:03|  2022-01-01 01:04:25|            1.0|         1.91|       1.0|                 N|         141|         229|           2|        8.5|  0.5|    0.5|       0.0|         0.0|                  0.3|        12.3|                 2.5|        0.0|\n",
      "|       2| 2022-01-01 00:31:06|  2022-01-01 00:34:14|            3.0|         0.82|       1.0|                 N|         114|          90|           2|        4.5|  0.5|    0.5|       0.0|         0.0|                  0.3|         8.3|                 2.5|        0.0|\n",
      "|       2| 2022-01-01 00:41:07|  2022-01-01 00:44:46|            3.0|         0.73|       1.0|                 N|         234|         113|           2|        4.5|  0.5|    0.5|       0.0|         0.0|                  0.3|         8.3|                 2.5|        0.0|\n",
      "|       2| 2022-01-01 00:56:34|  2022-01-01 01:12:04|            2.0|         2.16|       1.0|                 N|         246|          79|           1|       11.5|  0.5|    0.5|      3.06|         0.0|                  0.3|       18.36|                 2.5|        0.0|\n",
      "|       2| 2022-01-01 00:39:46|  2022-01-01 00:47:36|            4.0|         1.43|       1.0|                 N|          43|         140|           1|        7.5|  0.5|    0.5|      2.26|         0.0|                  0.3|       13.56|                 2.5|        0.0|\n",
      "|       2| 2022-01-01 00:58:06|  2022-01-01 01:05:45|            1.0|         1.58|       1.0|                 N|         239|         151|           2|        8.0|  0.5|    0.5|       0.0|         0.0|                  0.3|        11.8|                 2.5|        0.0|\n",
      "|       1| 2022-01-01 00:33:52|  2022-01-01 00:47:28|            3.0|          4.2|       1.0|                 N|         148|         141|           1|       14.0|  2.5|    0.5|      3.45|         0.0|                  0.3|       20.75|                 2.5|        0.0|\n",
      "|       1| 2022-01-01 00:53:54|  2022-01-01 01:05:20|            2.0|          2.2|       1.0|                 N|         237|         107|           1|        9.5|  2.5|    0.5|      2.55|         0.0|                  0.3|       15.35|                 2.5|        0.0|\n",
      "|       1| 2022-01-01 00:00:44|  2022-01-01 00:05:29|            1.0|          0.2|       1.0|                 N|           7|           7|           2|        5.0|  0.5|    0.5|       0.0|         0.0|                  0.3|         6.3|                 0.0|        0.0|\n",
      "|       1| 2022-01-01 00:35:50|  2022-01-01 00:48:33|            2.0|          3.9|       1.0|                 N|         107|         263|           1|       13.0|  3.0|    0.5|      3.35|         0.0|                  0.3|       20.15|                 2.5|        0.0|\n",
      "+--------+--------------------+---------------------+---------------+-------------+----------+------------------+------------+------------+------------+-----------+-----+-------+----------+------------+---------------------+------------+--------------------+-----------+\n",
      "only showing top 20 rows\n",
      "\n"
     ]
    }
   ],
   "source": [
    "df_yellow.show()"
   ]
  },
  {
   "cell_type": "code",
   "execution_count": 8,
   "id": "613baa70-37b6-45e2-a482-ddd010db1652",
   "metadata": {},
   "outputs": [
    {
     "data": {
      "text/plain": [
       "{'DOLocationID',\n",
       " 'PULocationID',\n",
       " 'RatecodeID',\n",
       " 'VendorID',\n",
       " 'congestion_surcharge',\n",
       " 'extra',\n",
       " 'fare_amount',\n",
       " 'improvement_surcharge',\n",
       " 'mta_tax',\n",
       " 'passenger_count',\n",
       " 'payment_type',\n",
       " 'store_and_fwd_flag',\n",
       " 'tip_amount',\n",
       " 'tolls_amount',\n",
       " 'total_amount',\n",
       " 'trip_distance'}"
      ]
     },
     "execution_count": 8,
     "metadata": {},
     "output_type": "execute_result"
    }
   ],
   "source": [
    "set(df_green.columns) & set(df_yellow.columns)"
   ]
  },
  {
   "cell_type": "code",
   "execution_count": 15,
   "id": "ed522023-342f-4f11-8d18-e3ee0fdd83c4",
   "metadata": {},
   "outputs": [],
   "source": [
    "df_green = df_green.withColumnRenamed('lpep_pickup_datetime','pickup_datetime') \\\n",
    "    .withColumnRenamed('lpep_dropoff_datetime','dropoff_datetime')"
   ]
  },
  {
   "cell_type": "code",
   "execution_count": 16,
   "id": "b8bf7b16-e934-421b-b951-61112dfb9eda",
   "metadata": {},
   "outputs": [],
   "source": [
    "df_yellow = df_yellow.withColumnRenamed('tpep_pickup_datetime','pickup_datetime') \\\n",
    "    .withColumnRenamed('tpep_dropoff_datetime','dropoff_datetime')"
   ]
  },
  {
   "cell_type": "code",
   "execution_count": 17,
   "id": "81de3507-c032-414e-bf2e-819fdc392221",
   "metadata": {},
   "outputs": [
    {
     "name": "stdout",
     "output_type": "stream",
     "text": [
      "+--------+-------------------+-------------------+---------------+-------------+----------+------------------+------------+------------+------------+-----------+-----+-------+----------+------------+---------------------+------------+--------------------+-----------+\n",
      "|VendorID|    pickup_datetime|   dropoff_datetime|passenger_count|trip_distance|RatecodeID|store_and_fwd_flag|PULocationID|DOLocationID|payment_type|fare_amount|extra|mta_tax|tip_amount|tolls_amount|improvement_surcharge|total_amount|congestion_surcharge|airport_fee|\n",
      "+--------+-------------------+-------------------+---------------+-------------+----------+------------------+------------+------------+------------+-----------+-----+-------+----------+------------+---------------------+------------+--------------------+-----------+\n",
      "|       1|2022-01-01 00:35:40|2022-01-01 00:53:29|            2.0|          3.8|       1.0|                 N|         142|         236|           1|       14.5|  3.0|    0.5|      3.65|         0.0|                  0.3|       21.95|                 2.5|        0.0|\n",
      "|       1|2022-01-01 00:33:43|2022-01-01 00:42:07|            1.0|          2.1|       1.0|                 N|         236|          42|           1|        8.0|  0.5|    0.5|       4.0|         0.0|                  0.3|        13.3|                 0.0|        0.0|\n",
      "|       2|2022-01-01 00:53:21|2022-01-01 01:02:19|            1.0|         0.97|       1.0|                 N|         166|         166|           1|        7.5|  0.5|    0.5|      1.76|         0.0|                  0.3|       10.56|                 0.0|        0.0|\n",
      "|       2|2022-01-01 00:25:21|2022-01-01 00:35:23|            1.0|         1.09|       1.0|                 N|         114|          68|           2|        8.0|  0.5|    0.5|       0.0|         0.0|                  0.3|        11.8|                 2.5|        0.0|\n",
      "|       2|2022-01-01 00:36:48|2022-01-01 01:14:20|            1.0|          4.3|       1.0|                 N|          68|         163|           1|       23.5|  0.5|    0.5|       3.0|         0.0|                  0.3|        30.3|                 2.5|        0.0|\n",
      "|       1|2022-01-01 00:40:15|2022-01-01 01:09:48|            1.0|         10.3|       1.0|                 N|         138|         161|           1|       33.0|  3.0|    0.5|      13.0|        6.55|                  0.3|       56.35|                 2.5|        0.0|\n",
      "|       2|2022-01-01 00:20:50|2022-01-01 00:34:58|            1.0|         5.07|       1.0|                 N|         233|          87|           1|       17.0|  0.5|    0.5|       5.2|         0.0|                  0.3|        26.0|                 2.5|        0.0|\n",
      "|       2|2022-01-01 00:13:04|2022-01-01 00:22:45|            1.0|         2.02|       1.0|                 N|         238|         152|           2|        9.0|  0.5|    0.5|       0.0|         0.0|                  0.3|        12.8|                 2.5|        0.0|\n",
      "|       2|2022-01-01 00:30:02|2022-01-01 00:44:49|            1.0|         2.71|       1.0|                 N|         166|         236|           1|       12.0|  0.5|    0.5|      2.25|         0.0|                  0.3|       18.05|                 2.5|        0.0|\n",
      "|       2|2022-01-01 00:48:52|2022-01-01 00:53:28|            1.0|         0.78|       1.0|                 N|         236|         141|           2|        5.0|  0.5|    0.5|       0.0|         0.0|                  0.3|         8.8|                 2.5|        0.0|\n",
      "|       2|2022-01-01 00:55:03|2022-01-01 01:04:25|            1.0|         1.91|       1.0|                 N|         141|         229|           2|        8.5|  0.5|    0.5|       0.0|         0.0|                  0.3|        12.3|                 2.5|        0.0|\n",
      "|       2|2022-01-01 00:31:06|2022-01-01 00:34:14|            3.0|         0.82|       1.0|                 N|         114|          90|           2|        4.5|  0.5|    0.5|       0.0|         0.0|                  0.3|         8.3|                 2.5|        0.0|\n",
      "|       2|2022-01-01 00:41:07|2022-01-01 00:44:46|            3.0|         0.73|       1.0|                 N|         234|         113|           2|        4.5|  0.5|    0.5|       0.0|         0.0|                  0.3|         8.3|                 2.5|        0.0|\n",
      "|       2|2022-01-01 00:56:34|2022-01-01 01:12:04|            2.0|         2.16|       1.0|                 N|         246|          79|           1|       11.5|  0.5|    0.5|      3.06|         0.0|                  0.3|       18.36|                 2.5|        0.0|\n",
      "|       2|2022-01-01 00:39:46|2022-01-01 00:47:36|            4.0|         1.43|       1.0|                 N|          43|         140|           1|        7.5|  0.5|    0.5|      2.26|         0.0|                  0.3|       13.56|                 2.5|        0.0|\n",
      "|       2|2022-01-01 00:58:06|2022-01-01 01:05:45|            1.0|         1.58|       1.0|                 N|         239|         151|           2|        8.0|  0.5|    0.5|       0.0|         0.0|                  0.3|        11.8|                 2.5|        0.0|\n",
      "|       1|2022-01-01 00:33:52|2022-01-01 00:47:28|            3.0|          4.2|       1.0|                 N|         148|         141|           1|       14.0|  2.5|    0.5|      3.45|         0.0|                  0.3|       20.75|                 2.5|        0.0|\n",
      "|       1|2022-01-01 00:53:54|2022-01-01 01:05:20|            2.0|          2.2|       1.0|                 N|         237|         107|           1|        9.5|  2.5|    0.5|      2.55|         0.0|                  0.3|       15.35|                 2.5|        0.0|\n",
      "|       1|2022-01-01 00:00:44|2022-01-01 00:05:29|            1.0|          0.2|       1.0|                 N|           7|           7|           2|        5.0|  0.5|    0.5|       0.0|         0.0|                  0.3|         6.3|                 0.0|        0.0|\n",
      "|       1|2022-01-01 00:35:50|2022-01-01 00:48:33|            2.0|          3.9|       1.0|                 N|         107|         263|           1|       13.0|  3.0|    0.5|      3.35|         0.0|                  0.3|       20.15|                 2.5|        0.0|\n",
      "+--------+-------------------+-------------------+---------------+-------------+----------+------------------+------------+------------+------------+-----------+-----+-------+----------+------------+---------------------+------------+--------------------+-----------+\n",
      "only showing top 20 rows\n",
      "\n"
     ]
    }
   ],
   "source": [
    "df_yellow.show()"
   ]
  },
  {
   "cell_type": "code",
   "execution_count": 18,
   "id": "0a97f5ef-8994-426a-b03d-ac031e1f9bb9",
   "metadata": {},
   "outputs": [
    {
     "data": {
      "text/plain": [
       "{'DOLocationID',\n",
       " 'PULocationID',\n",
       " 'RatecodeID',\n",
       " 'VendorID',\n",
       " 'congestion_surcharge',\n",
       " 'dropoff_datetime',\n",
       " 'extra',\n",
       " 'fare_amount',\n",
       " 'improvement_surcharge',\n",
       " 'mta_tax',\n",
       " 'passenger_count',\n",
       " 'payment_type',\n",
       " 'pickup_datetime',\n",
       " 'store_and_fwd_flag',\n",
       " 'tip_amount',\n",
       " 'tolls_amount',\n",
       " 'total_amount',\n",
       " 'trip_distance'}"
      ]
     },
     "execution_count": 18,
     "metadata": {},
     "output_type": "execute_result"
    }
   ],
   "source": [
    "set(df_green.columns) & set(df_yellow.columns)"
   ]
  },
  {
   "cell_type": "code",
   "execution_count": 19,
   "id": "4733f52c-cd76-41cd-b829-ef65bb8940d8",
   "metadata": {},
   "outputs": [],
   "source": [
    "commonCols = []\n",
    "yellowCols = set(df_yellow.columns)\n",
    "for col in df_green.columns:\n",
    "    if col in yellowCols:\n",
    "        commonCols.append(col)"
   ]
  },
  {
   "cell_type": "code",
   "execution_count": 20,
   "id": "acfe9b50-df29-4749-a982-8057f06fb12f",
   "metadata": {},
   "outputs": [],
   "source": [
    "from pyspark.sql import functions as F"
   ]
  },
  {
   "cell_type": "code",
   "execution_count": 21,
   "id": "c40cdfc1-15d8-4d64-8751-eca9147eface",
   "metadata": {},
   "outputs": [],
   "source": [
    "greenSelect = df_green.select(commonCols).withColumn('service_type',F.lit('green'))\n",
    "yellowSelect = df_yellow.select(commonCols).withColumn('service_type',F.lit('yellow'))"
   ]
  },
  {
   "cell_type": "code",
   "execution_count": 22,
   "id": "6cffeafe-4701-42b8-a50a-fcb55410d3f6",
   "metadata": {},
   "outputs": [],
   "source": [
    "dfTripsData = greenSelect.unionAll(yellowSelect)"
   ]
  },
  {
   "cell_type": "code",
   "execution_count": 23,
   "id": "84f250c6-a97d-47a3-af55-064ee844601a",
   "metadata": {},
   "outputs": [
    {
     "name": "stdout",
     "output_type": "stream",
     "text": [
      "+------------+--------+\n",
      "|service_type|   count|\n",
      "+------------+--------+\n",
      "|       green|  501368|\n",
      "|      yellow|22991977|\n",
      "+------------+--------+\n",
      "\n"
     ]
    }
   ],
   "source": [
    "dfTripsData.groupBy('service_type').count().show()"
   ]
  },
  {
   "cell_type": "code",
   "execution_count": 24,
   "id": "1ce96dbe-d529-4749-9121-df9a74133313",
   "metadata": {},
   "outputs": [],
   "source": [
    "dfTripsData.createOrReplaceTempView('tripsData')"
   ]
  },
  {
   "cell_type": "code",
   "execution_count": 25,
   "id": "d5d5aeec-6dc4-4343-99bf-10d7de74a248",
   "metadata": {},
   "outputs": [
    {
     "name": "stdout",
     "output_type": "stream",
     "text": [
      "+------------+-------------------+\n",
      "|service_type|count(service_type)|\n",
      "+------------+-------------------+\n",
      "|       green|             501368|\n",
      "|      yellow|           22991977|\n",
      "+------------+-------------------+\n",
      "\n"
     ]
    }
   ],
   "source": [
    "spark.sql(\"\"\"SELECT service_type, count(service_type) FROM tripsData group by service_type;\"\"\").show()"
   ]
  },
  {
   "cell_type": "code",
   "execution_count": 72,
   "id": "c62f6f73-90fa-41b3-b7c9-7e6b1461c71f",
   "metadata": {},
   "outputs": [],
   "source": [
    "df_green.createOrReplaceTempView('green')\n",
    "df_yellow.createOrReplaceTempView('yellow')"
   ]
  },
  {
   "cell_type": "code",
   "execution_count": 73,
   "id": "9ac05315-4e53-4339-b162-e6f5bbb4a647",
   "metadata": {},
   "outputs": [],
   "source": [
    "dfYellowRev = spark.sql(\"\"\"\n",
    "SELECT date_trunc('hour',tpep_pickup_datetime) as hour, PULocationID as zone, sum(total_amount) as amount, count(1) as number_records\n",
    "from yellow\n",
    "where tpep_pickup_datetime >= '2022-01-01 00:00:00'\n",
    "group by hour, zone\"\"\")\n",
    "\n",
    "dfGreenRev = spark.sql(\"\"\"\n",
    "SELECT date_trunc('hour',lpep_pickup_datetime) as hour, PULocationID as zone, sum(total_amount) as amount, count(1) as number_records\n",
    "from green\n",
    "where lpep_pickup_datetime >= '2022-01-01 00:00:00'\n",
    "group by hour, zone\"\"\")"
   ]
  },
  {
   "cell_type": "code",
   "execution_count": 74,
   "id": "1591f902-4db6-412a-9ac5-67d2e9fc95d7",
   "metadata": {},
   "outputs": [],
   "source": [
    "df_greenT = dfGreenRev.withColumnRenamed('amount','green_amount').withColumnRenamed('number_records','green_records')\n",
    "df_yellowT = dfYellowRev.withColumnRenamed('amount','yellow_amount').withColumnRenamed('number_records','yellow_records')\n"
   ]
  },
  {
   "cell_type": "code",
   "execution_count": 75,
   "id": "ba0a6502-add7-469a-9f49-a8fc1eee14de",
   "metadata": {},
   "outputs": [],
   "source": [
    "dfYellowGreen = df_yellowT.join(df_greenT,on=['hour','zone'],how='outer')"
   ]
  },
  {
   "cell_type": "code",
   "execution_count": 76,
   "id": "7eb28ff5-d203-448d-b920-56f4b7ec249c",
   "metadata": {},
   "outputs": [
    {
     "name": "stdout",
     "output_type": "stream",
     "text": [
      "+-------------------+----+------------------+--------------+------------------+-------------+\n",
      "|               hour|zone|     yellow_amount|yellow_records|      green_amount|green_records|\n",
      "+-------------------+----+------------------+--------------+------------------+-------------+\n",
      "|2022-01-01 00:00:00|  41|204.58999999999997|            12|109.98999999999998|            9|\n",
      "|2022-01-01 00:00:00|  43|1520.5099999999989|            97|             12.05|            1|\n",
      "|2022-01-01 00:00:00|  74|126.99999999999999|             9|113.25999999999999|            7|\n",
      "|2022-01-01 00:00:00|  80| 85.05000000000001|             3|             18.81|            1|\n",
      "|2022-01-01 00:00:00| 130|              NULL|          NULL|              28.3|            1|\n",
      "|2022-01-01 00:00:00| 144| 765.3699999999999|            46|              NULL|         NULL|\n",
      "|2022-01-01 00:00:00| 211| 558.6800000000001|            33|              NULL|         NULL|\n",
      "|2022-01-01 00:00:00| 233| 972.0499999999995|            58|              NULL|         NULL|\n",
      "|2022-01-01 00:00:00| 265|169.57999999999998|             4|              NULL|         NULL|\n",
      "|2022-01-01 01:00:00|  48|  5549.95000000001|           256|              NULL|         NULL|\n",
      "|2022-01-01 01:00:00|  52|              NULL|          NULL|              58.4|            1|\n",
      "|2022-01-01 01:00:00| 262|            485.61|            30|              NULL|         NULL|\n",
      "|2022-01-01 02:00:00|  52|             22.95|             1|              NULL|         NULL|\n",
      "|2022-01-01 02:00:00|  79|  5877.45000000001|           322|              NULL|         NULL|\n",
      "|2022-01-01 02:00:00|  88| 443.8700000000002|            16|              NULL|         NULL|\n",
      "|2022-01-01 02:00:00| 137|1073.5799999999997|            66|              NULL|         NULL|\n",
      "|2022-01-01 02:00:00| 146|             60.28|             3|               9.3|            1|\n",
      "|2022-01-01 02:00:00| 148|3042.7300000000037|           151|              NULL|         NULL|\n",
      "|2022-01-01 02:00:00| 170| 2288.919999999999|           147|              NULL|         NULL|\n",
      "|2022-01-01 02:00:00| 236| 785.7999999999998|            37|             19.26|            1|\n",
      "+-------------------+----+------------------+--------------+------------------+-------------+\n",
      "only showing top 20 rows\n",
      "\n"
     ]
    }
   ],
   "source": [
    "dfYellowGreen.show()"
   ]
  },
  {
   "cell_type": "code",
   "execution_count": 77,
   "id": "348712f6-4ba3-4797-ab4f-52eb9cda0f5b",
   "metadata": {},
   "outputs": [],
   "source": [
    "dfYellowGreen.write.parquet('data/report/revenue/total', mode='overwrite')"
   ]
  },
  {
   "cell_type": "code",
   "execution_count": 79,
   "id": "18fffb43-b4ee-4a28-97ae-22634df31b14",
   "metadata": {},
   "outputs": [],
   "source": [
    "dfZones = spark.read.option(\"header\",\"true\").csv('data/taxi+_zone_lookup.csv')"
   ]
  },
  {
   "cell_type": "code",
   "execution_count": 81,
   "id": "3bbf50bf-b436-4552-9949-3288b0ccef24",
   "metadata": {},
   "outputs": [],
   "source": [
    "dfZones.write.parquet(\"data/zones/\")"
   ]
  },
  {
   "cell_type": "code",
   "execution_count": 83,
   "id": "d2b16031-7790-49c0-9473-1f2637e5ebdf",
   "metadata": {},
   "outputs": [],
   "source": [
    "dfResult = dfYellowGreen.join(dfZones, dfYellowGreen.zone == dfZones.LocationID)"
   ]
  },
  {
   "cell_type": "code",
   "execution_count": 84,
   "id": "b02e2313-3b8b-4d2a-b71d-e17ab38dff89",
   "metadata": {},
   "outputs": [
    {
     "name": "stdout",
     "output_type": "stream",
     "text": [
      "+-------------------+----+------------------+--------------+------------------+-------------+----------+---------+--------------------+------------+\n",
      "|               hour|zone|     yellow_amount|yellow_records|      green_amount|green_records|LocationID|  Borough|                Zone|service_zone|\n",
      "+-------------------+----+------------------+--------------+------------------+-------------+----------+---------+--------------------+------------+\n",
      "|2022-01-01 00:00:00|  41|204.58999999999997|            12|109.98999999999998|            9|        41|Manhattan|      Central Harlem|   Boro Zone|\n",
      "|2022-01-01 00:00:00|  43|1520.5099999999989|            97|             12.05|            1|        43|Manhattan|        Central Park| Yellow Zone|\n",
      "|2022-01-01 00:00:00|  74|126.99999999999999|             9|113.25999999999999|            7|        74|Manhattan|   East Harlem North|   Boro Zone|\n",
      "|2022-01-01 00:00:00|  80| 85.05000000000001|             3|             18.81|            1|        80| Brooklyn|   East Williamsburg|   Boro Zone|\n",
      "|2022-01-01 00:00:00| 130|              NULL|          NULL|              28.3|            1|       130|   Queens|             Jamaica|   Boro Zone|\n",
      "|2022-01-01 00:00:00| 144| 765.3699999999999|            46|              NULL|         NULL|       144|Manhattan| Little Italy/NoLiTa| Yellow Zone|\n",
      "|2022-01-01 00:00:00| 211| 558.6800000000001|            33|              NULL|         NULL|       211|Manhattan|                SoHo| Yellow Zone|\n",
      "|2022-01-01 00:00:00| 233| 972.0499999999995|            58|              NULL|         NULL|       233|Manhattan| UN/Turtle Bay South| Yellow Zone|\n",
      "|2022-01-01 00:00:00| 265|169.57999999999998|             4|              NULL|         NULL|       265|  Unknown|                  NA|         N/A|\n",
      "|2022-01-01 01:00:00|  48|  5549.95000000001|           256|              NULL|         NULL|        48|Manhattan|        Clinton East| Yellow Zone|\n",
      "|2022-01-01 01:00:00|  52|              NULL|          NULL|              58.4|            1|        52| Brooklyn|         Cobble Hill|   Boro Zone|\n",
      "|2022-01-01 01:00:00| 262|            485.61|            30|              NULL|         NULL|       262|Manhattan|      Yorkville East| Yellow Zone|\n",
      "|2022-01-01 02:00:00|  52|             22.95|             1|              NULL|         NULL|        52| Brooklyn|         Cobble Hill|   Boro Zone|\n",
      "|2022-01-01 02:00:00|  79|  5877.45000000001|           322|              NULL|         NULL|        79|Manhattan|        East Village| Yellow Zone|\n",
      "|2022-01-01 02:00:00|  88| 443.8700000000002|            16|              NULL|         NULL|        88|Manhattan|Financial Distric...| Yellow Zone|\n",
      "|2022-01-01 02:00:00| 137|1073.5799999999997|            66|              NULL|         NULL|       137|Manhattan|            Kips Bay| Yellow Zone|\n",
      "|2022-01-01 02:00:00| 146|             60.28|             3|               9.3|            1|       146|   Queens|Long Island City/...|   Boro Zone|\n",
      "|2022-01-01 02:00:00| 148|3042.7300000000037|           151|              NULL|         NULL|       148|Manhattan|     Lower East Side| Yellow Zone|\n",
      "|2022-01-01 02:00:00| 170| 2288.919999999999|           147|              NULL|         NULL|       170|Manhattan|         Murray Hill| Yellow Zone|\n",
      "|2022-01-01 02:00:00| 236| 785.7999999999998|            37|             19.26|            1|       236|Manhattan|Upper East Side N...| Yellow Zone|\n",
      "+-------------------+----+------------------+--------------+------------------+-------------+----------+---------+--------------------+------------+\n",
      "only showing top 20 rows\n",
      "\n"
     ]
    }
   ],
   "source": [
    "dfResult.show()"
   ]
  },
  {
   "cell_type": "code",
   "execution_count": 87,
   "id": "9540cec0-a87b-43d1-bed7-593850f53ef5",
   "metadata": {},
   "outputs": [],
   "source": [
    "dfResult.drop('LocationID','zone').write.parquet('tmp/revenueZones')"
   ]
  },
  {
   "cell_type": "code",
   "execution_count": null,
   "id": "c26ef745-b03c-440e-a1eb-e22539280da7",
   "metadata": {},
   "outputs": [],
   "source": []
  }
 ],
 "metadata": {
  "kernelspec": {
   "display_name": "Python 3 (ipykernel)",
   "language": "python",
   "name": "python3"
  },
  "language_info": {
   "codemirror_mode": {
    "name": "ipython",
    "version": 3
   },
   "file_extension": ".py",
   "mimetype": "text/x-python",
   "name": "python",
   "nbconvert_exporter": "python",
   "pygments_lexer": "ipython3",
   "version": "3.11.4"
  }
 },
 "nbformat": 4,
 "nbformat_minor": 5
}
