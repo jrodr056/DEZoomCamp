{
 "cells": [
  {
   "cell_type": "code",
   "execution_count": 1,
   "id": "5f4d8c3b-7eae-407a-a59c-91f2c4bdff5b",
   "metadata": {},
   "outputs": [],
   "source": [
    "import pyspark\n",
    "from pyspark.sql import SparkSession"
   ]
  },
  {
   "cell_type": "code",
   "execution_count": 3,
   "id": "d565ef51-ac81-499c-ac56-0d4955eb6357",
   "metadata": {},
   "outputs": [],
   "source": [
    "spark = SparkSession.builder \\\n",
    "    .master(\"local[*]\") \\\n",
    "    .appName(\"test\") \\\n",
    "    .getOrCreate()"
   ]
  },
  {
   "cell_type": "code",
   "execution_count": 4,
   "id": "e5155705-0975-4ef8-9834-c744a736c567",
   "metadata": {},
   "outputs": [
    {
     "name": "stderr",
     "output_type": "stream",
     "text": [
      "Connecting to d37ci6vzurychx.cloudfront.net (18.164.173.226:443)\n",
      "saving to 'fhvhv_tripdata_2023-01.parquet'\n",
      "fhvhv_tripdata_2023-   0% |                                | 2948k  0:02:36 ETA\n",
      "fhvhv_tripdata_2023-   3% |*                               | 14.1M  0:01:01 ETA\n",
      "fhvhv_tripdata_2023-   5% |*                               | 25.4M  0:00:50 ETA\n",
      "fhvhv_tripdata_2023-   8% |**                              | 36.6M  0:00:45 ETA\n",
      "fhvhv_tripdata_2023-  10% |***                             | 47.9M  0:00:42 ETA\n",
      "fhvhv_tripdata_2023-  13% |****                            | 59.1M  0:00:39 ETA\n",
      "fhvhv_tripdata_2023-  15% |****                            | 70.4M  0:00:37 ETA\n",
      "fhvhv_tripdata_2023-  18% |*****                           | 81.7M  0:00:36 ETA\n",
      "fhvhv_tripdata_2023-  20% |******                          | 92.9M  0:00:34 ETA\n",
      "fhvhv_tripdata_2023-  23% |*******                         |  104M  0:00:33 ETA\n",
      "fhvhv_tripdata_2023-  24% |*******                         |  112M  0:00:33 ETA\n",
      "fhvhv_tripdata_2023-  27% |********                        |  123M  0:00:31 ETA\n",
      "fhvhv_tripdata_2023-  29% |*********                       |  135M  0:00:30 ETA\n",
      "fhvhv_tripdata_2023-  32% |**********                      |  146M  0:00:29 ETA\n",
      "fhvhv_tripdata_2023-  34% |***********                     |  157M  0:00:27 ETA\n",
      "fhvhv_tripdata_2023-  37% |***********                     |  169M  0:00:26 ETA\n",
      "fhvhv_tripdata_2023-  39% |************                    |  180M  0:00:25 ETA\n",
      "fhvhv_tripdata_2023-  42% |*************                   |  191M  0:00:24 ETA\n",
      "fhvhv_tripdata_2023-  44% |**************                  |  202M  0:00:23 ETA\n",
      "fhvhv_tripdata_2023-  47% |***************                 |  214M  0:00:22 ETA\n",
      "fhvhv_tripdata_2023-  49% |***************                 |  225M  0:00:21 ETA\n",
      "fhvhv_tripdata_2023-  51% |****************                |  234M  0:00:20 ETA\n",
      "fhvhv_tripdata_2023-  54% |*****************               |  245M  0:00:19 ETA\n",
      "fhvhv_tripdata_2023-  56% |******************              |  256M  0:00:18 ETA\n",
      "fhvhv_tripdata_2023-  59% |******************              |  268M  0:00:17 ETA\n",
      "fhvhv_tripdata_2023-  61% |*******************             |  279M  0:00:16 ETA\n",
      "fhvhv_tripdata_2023-  64% |********************            |  290M  0:00:14 ETA\n",
      "fhvhv_tripdata_2023-  66% |*********************           |  301M  0:00:13 ETA\n",
      "fhvhv_tripdata_2023-  69% |**********************          |  313M  0:00:12 ETA\n",
      "fhvhv_tripdata_2023-  71% |**********************          |  324M  0:00:11 ETA\n",
      "fhvhv_tripdata_2023-  74% |***********************         |  335M  0:00:10 ETA\n",
      "fhvhv_tripdata_2023-  76% |************************        |  344M  0:00:09 ETA\n",
      "fhvhv_tripdata_2023-  78% |*************************       |  355M  0:00:08 ETA\n",
      "fhvhv_tripdata_2023-  81% |**************************      |  367M  0:00:07 ETA\n",
      "fhvhv_tripdata_2023-  83% |**************************      |  378M  0:00:06 ETA\n",
      "fhvhv_tripdata_2023-  86% |***************************     |  389M  0:00:05 ETA\n",
      "fhvhv_tripdata_2023-  88% |****************************    |  401M  0:00:04 ETA\n",
      "fhvhv_tripdata_2023-  91% |*****************************   |  412M  0:00:03 ETA\n",
      "fhvhv_tripdata_2023-  93% |*****************************   |  423M  0:00:02 ETA\n",
      "fhvhv_tripdata_2023-  96% |******************************  |  434M  0:00:01 ETA\n",
      "fhvhv_tripdata_2023-  98% |******************************* |  446M  0:00:00 ETA\n",
      "fhvhv_tripdata_2023- 100% |********************************|  451M  0:00:00 ETA\n",
      "'fhvhv_tripdata_2023-01.parquet' saved\n"
     ]
    }
   ],
   "source": [
    "!wget https://d37ci6vzurychx.cloudfront.net/trip-data/fhvhv_tripdata_2023-01.parquet"
   ]
  },
  {
   "cell_type": "code",
   "execution_count": null,
   "id": "48914e38-33af-4352-a492-1ed704b460e0",
   "metadata": {},
   "outputs": [],
   "source": []
  }
 ],
 "metadata": {
  "kernelspec": {
   "display_name": "Python 3 (ipykernel)",
   "language": "python",
   "name": "python3"
  },
  "language_info": {
   "codemirror_mode": {
    "name": "ipython",
    "version": 3
   },
   "file_extension": ".py",
   "mimetype": "text/x-python",
   "name": "python",
   "nbconvert_exporter": "python",
   "pygments_lexer": "ipython3",
   "version": "3.11.4"
  }
 },
 "nbformat": 4,
 "nbformat_minor": 5
}
